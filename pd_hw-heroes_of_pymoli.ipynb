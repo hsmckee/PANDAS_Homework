{
 "cells": [
  {
   "cell_type": "code",
   "execution_count": 1,
   "metadata": {},
   "outputs": [],
   "source": [
    "#dependencies and setup\n",
    "import pandas as pd\n",
    "import os\n",
    "import numpy as np\n"
   ]
  },
  {
   "cell_type": "code",
   "execution_count": 2,
   "metadata": {},
   "outputs": [],
   "source": [
    "# Read Purchasing File and store into Pandas data frame\n",
    "df = pd.read_csv(os.path.join(\"resources\", \"purchase_data.csv\"))\n",
    "df.columns = df.columns.str.replace(' ','_')"
   ]
  },
  {
   "cell_type": "code",
   "execution_count": 3,
   "metadata": {},
   "outputs": [
    {
     "name": "stdout",
     "output_type": "stream",
     "text": [
      "     Purchase_ID             SN  Age  Gender  Item_ID  \\\n",
      "0              0        Lisim78   20    Male      108   \n",
      "1              1    Lisovynya38   40    Male      143   \n",
      "2              2     Ithergue48   24    Male       92   \n",
      "3              3  Chamassasya86   24    Male      100   \n",
      "4              4      Iskosia90   23    Male      131   \n",
      "..           ...            ...  ...     ...      ...   \n",
      "775          775     Aethedru70   21  Female       60   \n",
      "776          776         Iral74   21    Male      164   \n",
      "777          777     Yathecal72   20    Male       67   \n",
      "778          778        Sisur91    7    Male      101   \n",
      "779          779      Ennrian78   24    Male       50   \n",
      "\n",
      "                                     Item_Name  Price  \n",
      "0    Extraction, Quickblade Of Trembling Hands   3.53  \n",
      "1                            Frenzied Scimitar   1.56  \n",
      "2                                 Final Critic   4.88  \n",
      "3                                  Blindscythe   3.27  \n",
      "4                                         Fury   1.44  \n",
      "..                                         ...    ...  \n",
      "775                                       Wolf   3.54  \n",
      "776                           Exiled Doomblade   1.63  \n",
      "777      Celeste, Incarnation of the Corrupted   3.46  \n",
      "778                               Final Critic   4.19  \n",
      "779                                       Dawn   4.60  \n",
      "\n",
      "[780 rows x 7 columns]\n"
     ]
    }
   ],
   "source": [
    "\n",
    "print (df)"
   ]
  },
  {
   "cell_type": "code",
   "execution_count": 4,
   "metadata": {},
   "outputs": [
    {
     "data": {
      "text/html": [
       "<div>\n",
       "<style scoped>\n",
       "    .dataframe tbody tr th:only-of-type {\n",
       "        vertical-align: middle;\n",
       "    }\n",
       "\n",
       "    .dataframe tbody tr th {\n",
       "        vertical-align: top;\n",
       "    }\n",
       "\n",
       "    .dataframe thead th {\n",
       "        text-align: right;\n",
       "    }\n",
       "</style>\n",
       "<table border=\"1\" class=\"dataframe\">\n",
       "  <thead>\n",
       "    <tr style=\"text-align: right;\">\n",
       "      <th></th>\n",
       "      <th>Total Number of Players</th>\n",
       "    </tr>\n",
       "  </thead>\n",
       "  <tbody>\n",
       "    <tr>\n",
       "      <td>0</td>\n",
       "      <td>576</td>\n",
       "    </tr>\n",
       "  </tbody>\n",
       "</table>\n",
       "</div>"
      ],
      "text/plain": [
       "   Total Number of Players\n",
       "0                      576"
      ]
     },
     "execution_count": 4,
     "metadata": {},
     "output_type": "execute_result"
    }
   ],
   "source": [
    "#total number of players\n",
    "num_players = df.SN\n",
    "total_players = len(num_players.unique().tolist())\n",
    "# Display total number of Players\n",
    "pd.DataFrame({\"Total Number of Players\": [total_players]})\n"
   ]
  },
  {
   "cell_type": "code",
   "execution_count": 5,
   "metadata": {},
   "outputs": [
    {
     "data": {
      "text/plain": [
       "Index(['Purchase_ID', 'SN', 'Age', 'Gender', 'Item_ID', 'Item_Name', 'Price'], dtype='object')"
      ]
     },
     "execution_count": 5,
     "metadata": {},
     "output_type": "execute_result"
    }
   ],
   "source": [
    "#Purchasing Analysis\n",
    "df.columns\n",
    "\n"
   ]
  },
  {
   "cell_type": "code",
   "execution_count": 6,
   "metadata": {},
   "outputs": [
    {
     "data": {
      "text/html": [
       "<div>\n",
       "<style scoped>\n",
       "    .dataframe tbody tr th:only-of-type {\n",
       "        vertical-align: middle;\n",
       "    }\n",
       "\n",
       "    .dataframe tbody tr th {\n",
       "        vertical-align: top;\n",
       "    }\n",
       "\n",
       "    .dataframe thead th {\n",
       "        text-align: right;\n",
       "    }\n",
       "</style>\n",
       "<table border=\"1\" class=\"dataframe\">\n",
       "  <thead>\n",
       "    <tr style=\"text-align: right;\">\n",
       "      <th></th>\n",
       "      <th>Unique Items</th>\n",
       "      <th>Average Purchase Price</th>\n",
       "      <th>Number of Purchases</th>\n",
       "      <th>Total Revenue</th>\n",
       "    </tr>\n",
       "  </thead>\n",
       "  <tbody>\n",
       "    <tr>\n",
       "      <td>0</td>\n",
       "      <td>183</td>\n",
       "      <td>$3.05</td>\n",
       "      <td>780</td>\n",
       "      <td>$2379.77</td>\n",
       "    </tr>\n",
       "  </tbody>\n",
       "</table>\n",
       "</div>"
      ],
      "text/plain": [
       "   Unique Items Average Purchase Price  Number of Purchases Total Revenue\n",
       "0           183                  $3.05                  780      $2379.77"
      ]
     },
     "execution_count": 6,
     "metadata": {},
     "output_type": "execute_result"
    }
   ],
   "source": [
    "# Purchase Analysis\n",
    "# number of unique items\n",
    "unique_items = df.Item_ID\n",
    "num_ui = len(unique_items.unique().tolist())\n",
    "#average price, number of purchases, total revenue\n",
    "price = df.Price\n",
    "ave_pp = '$' + str(round(price.mean(),2))\n",
    "num_pur = len(price.tolist())\n",
    "tot_rev = '$' + str(round(price.sum(),2))\n",
    "#print purchase analysis\n",
    "pd.DataFrame({'Unique Items':[num_ui], 'Average Purchase Price':[ave_pp], 'Number of Purchases': [num_pur], \n",
    "              'Total Revenue':[tot_rev]})\n",
    "\n",
    "\n"
   ]
  },
  {
   "cell_type": "code",
   "execution_count": 7,
   "metadata": {},
   "outputs": [],
   "source": [
    "#Gender Demographics\n",
    "gender = df.Gender"
   ]
  },
  {
   "cell_type": "code",
   "execution_count": 8,
   "metadata": {},
   "outputs": [
    {
     "data": {
      "text/html": [
       "<div>\n",
       "<style scoped>\n",
       "    .dataframe tbody tr th:only-of-type {\n",
       "        vertical-align: middle;\n",
       "    }\n",
       "\n",
       "    .dataframe tbody tr th {\n",
       "        vertical-align: top;\n",
       "    }\n",
       "\n",
       "    .dataframe thead th {\n",
       "        text-align: right;\n",
       "    }\n",
       "</style>\n",
       "<table border=\"1\" class=\"dataframe\">\n",
       "  <thead>\n",
       "    <tr style=\"text-align: right;\">\n",
       "      <th></th>\n",
       "      <th>Total Count</th>\n",
       "      <th>Percentage of Players</th>\n",
       "    </tr>\n",
       "  </thead>\n",
       "  <tbody>\n",
       "    <tr>\n",
       "      <td>Male</td>\n",
       "      <td>652</td>\n",
       "      <td>83.6%</td>\n",
       "    </tr>\n",
       "    <tr>\n",
       "      <td>Female</td>\n",
       "      <td>113</td>\n",
       "      <td>14.5%</td>\n",
       "    </tr>\n",
       "    <tr>\n",
       "      <td>Other / Non-Disclosed</td>\n",
       "      <td>15</td>\n",
       "      <td>1.9%</td>\n",
       "    </tr>\n",
       "  </tbody>\n",
       "</table>\n",
       "</div>"
      ],
      "text/plain": [
       "                       Total Count Percentage of Players\n",
       "Male                           652                 83.6%\n",
       "Female                         113                 14.5%\n",
       "Other / Non-Disclosed           15                  1.9%"
      ]
     },
     "execution_count": 8,
     "metadata": {},
     "output_type": "execute_result"
    }
   ],
   "source": [
    "# Percentage and Count of Male, Female, Other / Non-Disclosed Players\n",
    "counts = gender.value_counts()\n",
    "percent = gender.value_counts(normalize=True).mul(100).round(1).astype(str)+ '%'\n",
    "pd.DataFrame({'Total Count':counts, 'Percentage of Players':percent})\n"
   ]
  },
  {
   "cell_type": "code",
   "execution_count": 9,
   "metadata": {},
   "outputs": [],
   "source": [
    "### Age Demographics\n",
    "\n",
    "#The below each broken into bins of 4 years (i.e. &lt;10, 10-14, 15-19, etc.)\n",
    "  #Purchase Count\n",
    "  #Average Purchase Price\n",
    "  #Total Purchase Value\n",
    "  #Average Purchase Total per Person by Age Group"
   ]
  },
  {
   "cell_type": "code",
   "execution_count": 10,
   "metadata": {},
   "outputs": [
    {
     "name": "stdout",
     "output_type": "stream",
     "text": [
      "     Purchase_ID             SN  Age  Gender  Item_ID  \\\n",
      "0              0        Lisim78   20    Male      108   \n",
      "1              1    Lisovynya38   40    Male      143   \n",
      "2              2     Ithergue48   24    Male       92   \n",
      "3              3  Chamassasya86   24    Male      100   \n",
      "4              4      Iskosia90   23    Male      131   \n",
      "..           ...            ...  ...     ...      ...   \n",
      "775          775     Aethedru70   21  Female       60   \n",
      "776          776         Iral74   21    Male      164   \n",
      "777          777     Yathecal72   20    Male       67   \n",
      "778          778        Sisur91    7    Male      101   \n",
      "779          779      Ennrian78   24    Male       50   \n",
      "\n",
      "                                     Item_Name  Price binned  \n",
      "0    Extraction, Quickblade Of Trembling Hands   3.53  15-19  \n",
      "1                            Frenzied Scimitar   1.56  36-40  \n",
      "2                                 Final Critic   4.88  20-24  \n",
      "3                                  Blindscythe   3.27  20-24  \n",
      "4                                         Fury   1.44  20-24  \n",
      "..                                         ...    ...    ...  \n",
      "775                                       Wolf   3.54  20-24  \n",
      "776                           Exiled Doomblade   1.63  20-24  \n",
      "777      Celeste, Incarnation of the Corrupted   3.46  15-19  \n",
      "778                               Final Critic   4.19    <10  \n",
      "779                                       Dawn   4.60  20-24  \n",
      "\n",
      "[780 rows x 8 columns]\n"
     ]
    }
   ],
   "source": [
    "\n",
    "bins = [0, 10, 15, 20, 25, 30, 35, 40, 41]\n",
    "labels = ['<10', '10-14', '15-19', '20-24', '25-30', '31-35', '36-40', '40+']\n",
    "df['binned'] = pd.cut(df['Age'], bins=bins, labels=labels)\n",
    "\n",
    "print (df)"
   ]
  },
  {
   "cell_type": "code",
   "execution_count": 11,
   "metadata": {},
   "outputs": [
    {
     "name": "stdout",
     "output_type": "stream",
     "text": [
      "        count      mean     sum\n",
      "binned                         \n",
      "<10        32  3.405000  108.96\n",
      "10-14      54  2.900000  156.60\n",
      "15-19     200  3.107800  621.56\n",
      "20-24     325  3.020431  981.64\n",
      "25-30      77  2.875584  221.42\n",
      "31-35      52  2.994423  155.71\n",
      "36-40      33  3.404545  112.35\n",
      "40+         2  3.270000    6.54\n"
     ]
    }
   ],
   "source": [
    "df1 = df.groupby('binned')['Price'].agg(['count', 'mean', 'sum'])\n",
    "print(df1)\n"
   ]
  },
  {
   "cell_type": "code",
   "execution_count": 12,
   "metadata": {},
   "outputs": [
    {
     "name": "stdout",
     "output_type": "stream",
     "text": [
      "        age_avg_pp\n",
      "binned            \n",
      "<10       4.540000\n",
      "10-14     3.819512\n",
      "15-19     4.143733\n",
      "20-24     4.231207\n",
      "25-30     3.752881\n",
      "31-35     4.208378\n",
      "36-40     4.321154\n",
      "40+       3.270000\n"
     ]
    }
   ],
   "source": [
    "#average purchase total per person in each age group\n",
    "den = df.groupby('binned')['SN'].agg(['nunique']).astype(int)\n",
    "num = df.groupby('binned')['Price'].agg(['sum'])\n",
    "answer = pd.merge(den, num, left_index=True, right_index=True)\n",
    "\n",
    "purch_person = (answer['sum']/answer['nunique']).to_frame('age_avg_pp')\n",
    "print(purch_person)"
   ]
  },
  {
   "cell_type": "code",
   "execution_count": 13,
   "metadata": {},
   "outputs": [
    {
     "name": "stdout",
     "output_type": "stream",
     "text": [
      "        count      mean     sum  age_avg_pp\n",
      "binned                                     \n",
      "<10        32  3.405000  108.96    4.540000\n",
      "10-14      54  2.900000  156.60    3.819512\n",
      "15-19     200  3.107800  621.56    4.143733\n",
      "20-24     325  3.020431  981.64    4.231207\n",
      "25-30      77  2.875584  221.42    3.752881\n",
      "31-35      52  2.994423  155.71    4.208378\n",
      "36-40      33  3.404545  112.35    4.321154\n",
      "40+         2  3.270000    6.54    3.270000\n"
     ]
    }
   ],
   "source": [
    "\n",
    "age_demo = pd.merge(df1, purch_person, left_index=True, right_index=True)\n",
    "#df.age_demo.rename(inplace=True, columns={'Purchase Count', 'Average Purchase Price', 'Total Puchase Value', \n",
    "                #'Ave Total Purchase per Person'})\n",
    "print(age_demo)\n",
    "\n"
   ]
  },
  {
   "cell_type": "code",
   "execution_count": 14,
   "metadata": {},
   "outputs": [
    {
     "data": {
      "text/plain": [
       "Index(['Purchase_ID', 'SN', 'Age', 'Gender', 'Item_ID', 'Item_Name', 'Price',\n",
       "       'binned'],\n",
       "      dtype='object')"
      ]
     },
     "execution_count": 14,
     "metadata": {},
     "output_type": "execute_result"
    }
   ],
   "source": [
    "#Top 5 Spenders\n",
    "df.columns\n",
    "\n"
   ]
  },
  {
   "cell_type": "code",
   "execution_count": 15,
   "metadata": {},
   "outputs": [
    {
     "name": "stdout",
     "output_type": "stream",
     "text": [
      "             Purchase_ID  Age  Item_ID  Price\n",
      "SN                                           \n",
      "Alo38                 63   20      125   1.00\n",
      "Aidai61              282   21      155   1.01\n",
      "Chanirra79           586   23      155   1.01\n",
      "Isurria36            528   22       19   1.02\n",
      "Irilis75             582   20       19   1.02\n",
      "...                  ...  ...      ...    ...\n",
      "Iskadarya95          713   60      321  13.10\n",
      "Iral74              2285   84      518  13.62\n",
      "Chamjask73          1306   66      339  13.83\n",
      "Idastidru52         1999   96      527  15.45\n",
      "Lisosia93           1630  125      451  18.96\n",
      "\n",
      "[576 rows x 4 columns]\n"
     ]
    }
   ],
   "source": [
    "#create a dataframe of sum of the stats\n",
    "spenders = df.groupby('SN').sum().sort_values(by=['Price'])\n",
    "print (spenders)"
   ]
  },
  {
   "cell_type": "code",
   "execution_count": 17,
   "metadata": {},
   "outputs": [
    {
     "name": "stdout",
     "output_type": "stream",
     "text": [
      "             Price\n",
      "SN                \n",
      "Lisosia93    18.96\n",
      "Idastidru52  15.45\n",
      "Chamjask73   13.83\n",
      "Iral74       13.62\n",
      "Iskadarya95  13.10\n"
     ]
    }
   ],
   "source": [
    "spenders= spenders.nlargest(5, 'Price')\n",
    "spenders = spenders.drop(['Age', 'Item_ID','Purchase_ID'], axis=1)\n",
    "print (spenders)"
   ]
  },
  {
   "cell_type": "code",
   "execution_count": 23,
   "metadata": {},
   "outputs": [
    {
     "name": "stdout",
     "output_type": "stream",
     "text": [
      "               1\n",
      "Lisosia93    5.0\n",
      "Idastidru52  4.0\n",
      "Chamjask73   3.0\n",
      "Iral74       4.0\n",
      "Iskadarya95  3.0\n"
     ]
    }
   ],
   "source": [
    "#basic calculations on top spenders\n",
    "# Purchase Count = number of unique purchases per person = how many repeats a name has in\n",
    "#the original data frame\n",
    "df.columns\n",
    "df['Count']= df.groupby('SN')['SN'].transform('count')\n",
    "count = pd.merge(df['Count'],df)\n",
    "count1 = df[df.SN == 'Lisosia93']\n",
    "count2 = df[df.SN == 'Idastidru52']\n",
    "count3 = df[df.SN == 'Chamjask73']\n",
    "count4 = df[df.SN == 'Iral74']\n",
    "count5 = df[df.SN == 'Iskadarya95']\n",
    "pieces = (count1, count2, count3, count4, count5)\n",
    "df_count = pd.concat(pieces, ignore_index=True)\n",
    "df_count = pd.DataFrame({\"Lisosia93\": [5], \"Idastidru52\": [4], \"Chamjask73\": [3], \"Iral74\": [4], \"Iskadarya95\": [3]},\n",
    "            index = [1, 2, 3, 4, 5])\n",
    "count6 = df_count.transpose()\n",
    "\n",
    "count6 = count6.astype('float64')\n",
    "\n",
    "count6d = count6.drop([2, 3, 4, 5], axis=1)\n",
    "\n",
    "print(count6d)\n",
    "\n",
    "\n"
   ]
  },
  {
   "cell_type": "code",
   "execution_count": 26,
   "metadata": {},
   "outputs": [
    {
     "name": "stdout",
     "output_type": "stream",
     "text": [
      "             Purchase_Count  Total_Purchase_Value\n",
      "Lisosia93               5.0                 18.96\n",
      "Idastidru52             4.0                 15.45\n",
      "Chamjask73              3.0                 13.83\n",
      "Iral74                  4.0                 13.62\n",
      "Iskadarya95             3.0                 13.10\n"
     ]
    }
   ],
   "source": [
    "top_5 = pd.merge(count6d, spenders, left_index=True, right_index=True)\n",
    "top_5 = top_5.rename(columns={1: 'Purchase_Count', 'Price': 'Total_Purchase_Value'})\n",
    "print(top_5)\n",
    "\n",
    "# Average Price\n",
    "# Total Purchase Value"
   ]
  },
  {
   "cell_type": "code",
   "execution_count": 28,
   "metadata": {},
   "outputs": [
    {
     "ename": "TypeError",
     "evalue": "unsupported operand type(s) for /: 'list' and 'list'",
     "output_type": "error",
     "traceback": [
      "\u001b[0;31m---------------------------------------------------------------------------\u001b[0m",
      "\u001b[0;31mTypeError\u001b[0m                                 Traceback (most recent call last)",
      "\u001b[0;32m<ipython-input-28-4c59cd37f015>\u001b[0m in \u001b[0;36m<module>\u001b[0;34m\u001b[0m\n\u001b[1;32m      1\u001b[0m \u001b[0;31m#Average Price = Purchase_Count/Total_Purchase_Value\u001b[0m\u001b[0;34m\u001b[0m\u001b[0;34m\u001b[0m\u001b[0;34m\u001b[0m\u001b[0m\n\u001b[0;32m----> 2\u001b[0;31m \u001b[0mAve_Price\u001b[0m \u001b[0;34m=\u001b[0m \u001b[0;34m[\u001b[0m\u001b[0;34m'Total_Purchase_Value'\u001b[0m\u001b[0;34m]\u001b[0m\u001b[0;34m/\u001b[0m\u001b[0;34m[\u001b[0m\u001b[0;34m'Purchase_Count'\u001b[0m\u001b[0;34m]\u001b[0m\u001b[0;34m\u001b[0m\u001b[0;34m\u001b[0m\u001b[0m\n\u001b[0m\u001b[1;32m      3\u001b[0m \u001b[0;34m\u001b[0m\u001b[0m\n\u001b[1;32m      4\u001b[0m \u001b[0;34m\u001b[0m\u001b[0m\n\u001b[1;32m      5\u001b[0m \u001b[0mprint\u001b[0m\u001b[0;34m(\u001b[0m\u001b[0mAve_Price\u001b[0m\u001b[0;34m)\u001b[0m\u001b[0;34m\u001b[0m\u001b[0;34m\u001b[0m\u001b[0m\n",
      "\u001b[0;31mTypeError\u001b[0m: unsupported operand type(s) for /: 'list' and 'list'"
     ]
    }
   ],
   "source": [
    "#Average Price = Purchase_Count/Total_Purchase_Value\n",
    "Ave_Price = ['Total_Purchase_Value']/['Purchase_Count']\n",
    "\n",
    "\n",
    "print(Ave_Price)"
   ]
  },
  {
   "cell_type": "code",
   "execution_count": null,
   "metadata": {},
   "outputs": [],
   "source": [
    "\n",
    "#Create summary data frame to hold the results\n",
    "#\tPurchase Count\tAverage Purchase Price\tTotal Purchase Value\n",
    "#SN\t\t\t\n",
    "#Lisosia93\t5\t$3.79\t$18.96\n",
    "#Idastidru52\t4\t$3.86\t$15.45\n",
    "#Chamjask73\t3\t$4.61\t$13.83\n",
    "#Iral74\t4\t$3.40\t$13.62\n",
    "#Iskadarya95\t3\t$4.37\t$13.10\n"
   ]
  },
  {
   "cell_type": "code",
   "execution_count": null,
   "metadata": {},
   "outputs": [],
   "source": []
  },
  {
   "cell_type": "code",
   "execution_count": null,
   "metadata": {},
   "outputs": [],
   "source": [
    "#sort the total purchase value column in descending order"
   ]
  }
 ],
 "metadata": {
  "kernelspec": {
   "display_name": "Python 3",
   "language": "python",
   "name": "python3"
  },
  "language_info": {
   "codemirror_mode": {
    "name": "ipython",
    "version": 3
   },
   "file_extension": ".py",
   "mimetype": "text/x-python",
   "name": "python",
   "nbconvert_exporter": "python",
   "pygments_lexer": "ipython3",
   "version": "3.7.4"
  }
 },
 "nbformat": 4,
 "nbformat_minor": 4
}
